{
 "cells": [
  {
   "cell_type": "code",
   "execution_count": null,
   "metadata": {
    "_cell_guid": "b1076dfc-b9ad-4769-8c92-a6c4dae69d19",
    "_uuid": "8f2839f25d086af736a60e9eeb907d3b93b6e0e5"
   },
   "outputs": [],
   "source": [
    "# This Python 3 environment comes with many helpful analytics libraries installed\n",
    "# It is defined by the kaggle/python Docker image: https://github.com/kaggle/docker-python\n",
    "# For example, here's several helpful packages to load\n",
    "\n",
    "import numpy as np # linear algebra\n",
    "import pandas as pd # data processing, CSV file I/O (e.g. pd.read_csv)\n",
    "\n",
    "# Input data files are available in the read-only \"../input/\" directory\n",
    "# For example, running this (by clicking run or pressing Shift+Enter) will list all files under the input directory\n",
    "\n",
    "import os\n",
    "for dirname, _, filenames in os.walk('/kaggle/input'):\n",
    "    for filename in filenames:\n",
    "        print(os.path.join(dirname, filename))\n",
    "\n",
    "# You can write up to 20GB to the current directory (/kaggle/working/) that gets preserved as output when you create a version using \"Save & Run All\" \n",
    "# You can also write temporary files to /kaggle/temp/, but they won't be saved outside of the current session"
   ]
  },
  {
   "cell_type": "code",
   "execution_count": 1,
   "metadata": {
    "execution": {
     "iopub.execute_input": "2022-10-24T17:38:02.875914Z",
     "iopub.status.busy": "2022-10-24T17:38:02.875446Z",
     "iopub.status.idle": "2022-10-24T17:38:09.436313Z",
     "shell.execute_reply": "2022-10-24T17:38:09.435246Z",
     "shell.execute_reply.started": "2022-10-24T17:38:02.875799Z"
    }
   },
   "outputs": [],
   "source": [
    "import tensorflow as tf\n",
    "from tensorflow.keras.layers import Conv2D,MaxPooling2D,Dense,Flatten,Dropout\n",
    "from tensorflow.keras.models import Sequential\n",
    "from tensorflow.keras.optimizers import Adam\n",
    "from tensorflow.keras.callbacks import EarlyStopping,ModelCheckpoint\n",
    "from keras_preprocessing.image import ImageDataGenerator\n",
    "import os\n",
    "import pandas as pd\n",
    "import numpy as np"
   ]
  },
  {
   "cell_type": "code",
   "execution_count": 2,
   "metadata": {
    "execution": {
     "iopub.execute_input": "2022-10-24T17:38:09.441253Z",
     "iopub.status.busy": "2022-10-24T17:38:09.440688Z",
     "iopub.status.idle": "2022-10-24T17:38:09.483960Z",
     "shell.execute_reply": "2022-10-24T17:38:09.482956Z",
     "shell.execute_reply.started": "2022-10-24T17:38:09.441221Z"
    }
   },
   "outputs": [],
   "source": [
    "dir = \"../input/state-farm-distracted-driver-detection\"\n",
    "train_dir = os.path.join(dir , 'imgs/train/')\n",
    "test_dir = os.path.join(dir , 'imgs/test/')\n",
    "data = pd.read_csv(os.path.join(dir , 'driver_imgs_list.csv'))"
   ]
  },
  {
   "cell_type": "code",
   "execution_count": 3,
   "metadata": {
    "execution": {
     "iopub.execute_input": "2022-10-24T17:38:09.486498Z",
     "iopub.status.busy": "2022-10-24T17:38:09.485676Z",
     "iopub.status.idle": "2022-10-24T17:38:09.508685Z",
     "shell.execute_reply": "2022-10-24T17:38:09.507733Z",
     "shell.execute_reply.started": "2022-10-24T17:38:09.486459Z"
    }
   },
   "outputs": [
    {
     "data": {
      "text/html": [
       "<div>\n",
       "<style scoped>\n",
       "    .dataframe tbody tr th:only-of-type {\n",
       "        vertical-align: middle;\n",
       "    }\n",
       "\n",
       "    .dataframe tbody tr th {\n",
       "        vertical-align: top;\n",
       "    }\n",
       "\n",
       "    .dataframe thead th {\n",
       "        text-align: right;\n",
       "    }\n",
       "</style>\n",
       "<table border=\"1\" class=\"dataframe\">\n",
       "  <thead>\n",
       "    <tr style=\"text-align: right;\">\n",
       "      <th></th>\n",
       "      <th>subject</th>\n",
       "      <th>classname</th>\n",
       "      <th>img</th>\n",
       "    </tr>\n",
       "  </thead>\n",
       "  <tbody>\n",
       "    <tr>\n",
       "      <th>0</th>\n",
       "      <td>p002</td>\n",
       "      <td>c0</td>\n",
       "      <td>img_44733.jpg</td>\n",
       "    </tr>\n",
       "    <tr>\n",
       "      <th>1</th>\n",
       "      <td>p002</td>\n",
       "      <td>c0</td>\n",
       "      <td>img_72999.jpg</td>\n",
       "    </tr>\n",
       "    <tr>\n",
       "      <th>2</th>\n",
       "      <td>p002</td>\n",
       "      <td>c0</td>\n",
       "      <td>img_25094.jpg</td>\n",
       "    </tr>\n",
       "    <tr>\n",
       "      <th>3</th>\n",
       "      <td>p002</td>\n",
       "      <td>c0</td>\n",
       "      <td>img_69092.jpg</td>\n",
       "    </tr>\n",
       "    <tr>\n",
       "      <th>4</th>\n",
       "      <td>p002</td>\n",
       "      <td>c0</td>\n",
       "      <td>img_92629.jpg</td>\n",
       "    </tr>\n",
       "  </tbody>\n",
       "</table>\n",
       "</div>"
      ],
      "text/plain": [
       "  subject classname            img\n",
       "0    p002        c0  img_44733.jpg\n",
       "1    p002        c0  img_72999.jpg\n",
       "2    p002        c0  img_25094.jpg\n",
       "3    p002        c0  img_69092.jpg\n",
       "4    p002        c0  img_92629.jpg"
      ]
     },
     "execution_count": 3,
     "metadata": {},
     "output_type": "execute_result"
    }
   ],
   "source": [
    "data.head()"
   ]
  },
  {
   "cell_type": "code",
   "execution_count": 4,
   "metadata": {
    "execution": {
     "iopub.execute_input": "2022-10-24T17:38:09.513370Z",
     "iopub.status.busy": "2022-10-24T17:38:09.512571Z",
     "iopub.status.idle": "2022-10-24T17:38:09.530090Z",
     "shell.execute_reply": "2022-10-24T17:38:09.529094Z",
     "shell.execute_reply.started": "2022-10-24T17:38:09.513328Z"
    }
   },
   "outputs": [
    {
     "data": {
      "text/plain": [
       "10"
      ]
     },
     "execution_count": 4,
     "metadata": {},
     "output_type": "execute_result"
    }
   ],
   "source": [
    "class_counts = data.classname.value_counts()\n",
    "classes=len(class_counts)\n",
    "classes"
   ]
  },
  {
   "cell_type": "markdown",
   "metadata": {},
   "source": [
    "**Using Image Data Generator to generate data in format as required by our CNN model**"
   ]
  },
  {
   "cell_type": "code",
   "execution_count": 5,
   "metadata": {
    "execution": {
     "iopub.execute_input": "2022-10-24T17:38:09.532921Z",
     "iopub.status.busy": "2022-10-24T17:38:09.532053Z",
     "iopub.status.idle": "2022-10-24T17:39:55.444889Z",
     "shell.execute_reply": "2022-10-24T17:39:55.443753Z",
     "shell.execute_reply.started": "2022-10-24T17:38:09.532880Z"
    }
   },
   "outputs": [
    {
     "name": "stdout",
     "output_type": "stream",
     "text": [
      "Found 17943 images belonging to 10 classes.\n",
      "Found 4481 images belonging to 10 classes.\n",
      "Found 79726 images belonging to 1 classes.\n"
     ]
    }
   ],
   "source": [
    "train_gen = ImageDataGenerator(rescale = 1.0/255, \n",
    "                                   shear_range = 0.2, \n",
    "                                   zoom_range = 0.2, \n",
    "                                   horizontal_flip = True, \n",
    "                                   validation_split = 0.2)\n",
    "\n",
    "train_data=train_gen.flow_from_directory(train_dir,\n",
    "                                              target_size=(240,240),\n",
    "                                              class_mode=\"categorical\",\n",
    "                                              batch_size=32,\n",
    "                                        subset=\"training\")\n",
    "\n",
    "val_data=train_gen.flow_from_directory(train_dir,\n",
    "                                              target_size=(240,240),\n",
    "                                              class_mode=\"categorical\",\n",
    "                                              batch_size=32,\n",
    "                                             subset=\"validation\")\n",
    "\n",
    "test_gen=ImageDataGenerator(rescale=1.0/255)\n",
    "test_dir = os.path.join(dir , 'imgs')\n",
    "test_data = test_gen.flow_from_directory(test_dir ,\n",
    "                                        target_size=(240,240),\n",
    "                                        batch_size=32,\n",
    "                                        classes = ['test'],\n",
    "                                        shuffle = False)"
   ]
  },
  {
   "cell_type": "markdown",
   "metadata": {},
   "source": [
    "**Creating Model-CNN**"
   ]
  },
  {
   "cell_type": "code",
   "execution_count": 11,
   "metadata": {
    "execution": {
     "iopub.execute_input": "2022-10-24T17:51:03.293708Z",
     "iopub.status.busy": "2022-10-24T17:51:03.292696Z",
     "iopub.status.idle": "2022-10-24T17:51:03.375619Z",
     "shell.execute_reply": "2022-10-24T17:51:03.372054Z",
     "shell.execute_reply.started": "2022-10-24T17:51:03.293657Z"
    }
   },
   "outputs": [],
   "source": [
    "model=tf.keras.models.Sequential([\n",
    "    Conv2D(128,(3,3),activation=\"relu\",input_shape=(240,240,3)),\n",
    "    MaxPooling2D(2,2),\n",
    "    Dropout(0.3),\n",
    "    Conv2D(64,(3,3),activation=\"relu\"),\n",
    "    MaxPooling2D(2,2),\n",
    "    Dropout(0.3),\n",
    "    Conv2D(32,(3,3),activation=\"relu\"),\n",
    "    MaxPooling2D(2,2),\n",
    "    Dropout(0.3),\n",
    "    Flatten(),\n",
    "    Dense(1024,activation=\"relu\"),\n",
    "    Dense(256,activation=\"relu\"),\n",
    "    Dense(10,activation=\"sigmoid\")\n",
    "])"
   ]
  },
  {
   "cell_type": "code",
   "execution_count": 12,
   "metadata": {
    "execution": {
     "iopub.execute_input": "2022-10-24T17:51:03.379861Z",
     "iopub.status.busy": "2022-10-24T17:51:03.379166Z",
     "iopub.status.idle": "2022-10-24T17:51:03.386183Z",
     "shell.execute_reply": "2022-10-24T17:51:03.384577Z",
     "shell.execute_reply.started": "2022-10-24T17:51:03.379779Z"
    }
   },
   "outputs": [],
   "source": [
    "es=EarlyStopping(monitor=\"val_acc\",patience=3)\n",
    "ck = ModelCheckpoint('best_model.hdf5' , save_best_only=True,monitor='val_acc',mode='min')"
   ]
  },
  {
   "cell_type": "code",
   "execution_count": 13,
   "metadata": {
    "execution": {
     "iopub.execute_input": "2022-10-24T17:51:03.389139Z",
     "iopub.status.busy": "2022-10-24T17:51:03.388173Z",
     "iopub.status.idle": "2022-10-24T17:51:03.411793Z",
     "shell.execute_reply": "2022-10-24T17:51:03.410072Z",
     "shell.execute_reply.started": "2022-10-24T17:51:03.389091Z"
    }
   },
   "outputs": [
    {
     "name": "stdout",
     "output_type": "stream",
     "text": [
      "Model: \"sequential_1\"\n",
      "_________________________________________________________________\n",
      "Layer (type)                 Output Shape              Param #   \n",
      "=================================================================\n",
      "conv2d_3 (Conv2D)            (None, 238, 238, 128)     3584      \n",
      "_________________________________________________________________\n",
      "max_pooling2d_3 (MaxPooling2 (None, 119, 119, 128)     0         \n",
      "_________________________________________________________________\n",
      "dropout_3 (Dropout)          (None, 119, 119, 128)     0         \n",
      "_________________________________________________________________\n",
      "conv2d_4 (Conv2D)            (None, 117, 117, 64)      73792     \n",
      "_________________________________________________________________\n",
      "max_pooling2d_4 (MaxPooling2 (None, 58, 58, 64)        0         \n",
      "_________________________________________________________________\n",
      "dropout_4 (Dropout)          (None, 58, 58, 64)        0         \n",
      "_________________________________________________________________\n",
      "conv2d_5 (Conv2D)            (None, 56, 56, 32)        18464     \n",
      "_________________________________________________________________\n",
      "max_pooling2d_5 (MaxPooling2 (None, 28, 28, 32)        0         \n",
      "_________________________________________________________________\n",
      "dropout_5 (Dropout)          (None, 28, 28, 32)        0         \n",
      "_________________________________________________________________\n",
      "flatten_1 (Flatten)          (None, 25088)             0         \n",
      "_________________________________________________________________\n",
      "dense_3 (Dense)              (None, 1024)              25691136  \n",
      "_________________________________________________________________\n",
      "dense_4 (Dense)              (None, 256)               262400    \n",
      "_________________________________________________________________\n",
      "dense_5 (Dense)              (None, 10)                2570      \n",
      "=================================================================\n",
      "Total params: 26,051,946\n",
      "Trainable params: 26,051,946\n",
      "Non-trainable params: 0\n",
      "_________________________________________________________________\n"
     ]
    }
   ],
   "source": [
    "model.summary()"
   ]
  },
  {
   "cell_type": "code",
   "execution_count": 14,
   "metadata": {
    "execution": {
     "iopub.execute_input": "2022-10-24T17:51:03.415375Z",
     "iopub.status.busy": "2022-10-24T17:51:03.415011Z",
     "iopub.status.idle": "2022-10-24T17:51:03.436241Z",
     "shell.execute_reply": "2022-10-24T17:51:03.435319Z",
     "shell.execute_reply.started": "2022-10-24T17:51:03.415339Z"
    }
   },
   "outputs": [],
   "source": [
    "model.compile(loss=\"categorical_crossentropy\",metrics=[\"accuracy\"],optimizer='Adam')\n",
    "# rmsprop"
   ]
  },
  {
   "cell_type": "code",
   "execution_count": 15,
   "metadata": {
    "execution": {
     "iopub.execute_input": "2022-10-24T17:51:03.438460Z",
     "iopub.status.busy": "2022-10-24T17:51:03.437810Z",
     "iopub.status.idle": "2022-10-24T19:08:41.424863Z",
     "shell.execute_reply": "2022-10-24T19:08:41.423884Z",
     "shell.execute_reply.started": "2022-10-24T17:51:03.438425Z"
    }
   },
   "outputs": [
    {
     "name": "stdout",
     "output_type": "stream",
     "text": [
      "Epoch 1/10\n",
      "560/560 [==============================] - 465s 829ms/step - loss: 1.8651 - accuracy: 0.3127 - val_loss: 0.8939 - val_accuracy: 0.6992\n",
      "Epoch 2/10\n",
      "560/560 [==============================] - 454s 810ms/step - loss: 0.5584 - accuracy: 0.8164 - val_loss: 0.2861 - val_accuracy: 0.9105\n",
      "Epoch 3/10\n",
      "560/560 [==============================] - 462s 824ms/step - loss: 0.2734 - accuracy: 0.9119 - val_loss: 0.1868 - val_accuracy: 0.9402\n",
      "Epoch 4/10\n",
      "560/560 [==============================] - 460s 820ms/step - loss: 0.1862 - accuracy: 0.9428 - val_loss: 0.1382 - val_accuracy: 0.9567\n",
      "Epoch 5/10\n",
      "560/560 [==============================] - 460s 820ms/step - loss: 0.1490 - accuracy: 0.9525 - val_loss: 0.1017 - val_accuracy: 0.9694\n",
      "Epoch 6/10\n",
      "560/560 [==============================] - 451s 804ms/step - loss: 0.1156 - accuracy: 0.9638 - val_loss: 0.1122 - val_accuracy: 0.9647\n",
      "Epoch 7/10\n",
      "560/560 [==============================] - 451s 805ms/step - loss: 0.1114 - accuracy: 0.9648 - val_loss: 0.1165 - val_accuracy: 0.9647\n",
      "Epoch 8/10\n",
      "560/560 [==============================] - 450s 803ms/step - loss: 0.0955 - accuracy: 0.9696 - val_loss: 0.0836 - val_accuracy: 0.9757\n",
      "Epoch 9/10\n",
      "560/560 [==============================] - 460s 820ms/step - loss: 0.0876 - accuracy: 0.9736 - val_loss: 0.0762 - val_accuracy: 0.9768\n",
      "Epoch 10/10\n",
      "560/560 [==============================] - 462s 824ms/step - loss: 0.0775 - accuracy: 0.9759 - val_loss: 0.0858 - val_accuracy: 0.9752\n"
     ]
    },
    {
     "data": {
      "text/plain": [
       "<keras.callbacks.History at 0x7f1e64402350>"
      ]
     },
     "execution_count": 15,
     "metadata": {},
     "output_type": "execute_result"
    }
   ],
   "source": [
    "model.fit(train_data ,\n",
    "          steps_per_epoch = 17943/32,\n",
    "          epochs = 10 ,\n",
    "          validation_data = val_data,\n",
    "          validation_steps = 4481/32,\n",
    "          callbacks=[es,ck],\n",
    "          verbose=1)"
   ]
  },
  {
   "cell_type": "markdown",
   "metadata": {},
   "source": [
    "**Predicting**"
   ]
  },
  {
   "cell_type": "code",
   "execution_count": 16,
   "metadata": {
    "execution": {
     "iopub.execute_input": "2022-10-24T19:08:41.427062Z",
     "iopub.status.busy": "2022-10-24T19:08:41.426627Z",
     "iopub.status.idle": "2022-10-24T19:24:53.931426Z",
     "shell.execute_reply": "2022-10-24T19:24:53.930287Z",
     "shell.execute_reply.started": "2022-10-24T19:08:41.426996Z"
    }
   },
   "outputs": [
    {
     "data": {
      "text/plain": [
       "array([[6.46880686e-01, 4.58720897e-05, 9.76889161e-04, ...,\n",
       "        2.02701576e-02, 4.95244265e-01, 9.93355036e-01],\n",
       "       [1.94926232e-01, 1.89310056e-03, 7.08464026e-01, ...,\n",
       "        6.58268400e-05, 4.48939830e-01, 2.03704804e-01],\n",
       "       [6.64337456e-01, 4.12233084e-01, 2.27838054e-01, ...,\n",
       "        3.90346825e-01, 5.33773363e-01, 6.65712297e-01],\n",
       "       ...,\n",
       "       [6.95628822e-01, 1.04422055e-01, 2.56466836e-01, ...,\n",
       "        4.64484215e-01, 4.33876574e-01, 4.77398127e-01],\n",
       "       [6.59257546e-03, 1.29442720e-03, 9.99132693e-01, ...,\n",
       "        6.27145842e-02, 9.96552348e-01, 1.56140134e-01],\n",
       "       [2.33540982e-02, 2.55510258e-06, 2.69264448e-04, ...,\n",
       "        6.65695146e-02, 3.65564436e-01, 9.93071973e-01]], dtype=float32)"
      ]
     },
     "execution_count": 16,
     "metadata": {},
     "output_type": "execute_result"
    }
   ],
   "source": [
    "from tensorflow.keras.models import load_model\n",
    "# model = load_model('best_model.hdf5')\n",
    "preds = model.predict(test_data)\n",
    "preds"
   ]
  },
  {
   "cell_type": "code",
   "execution_count": 17,
   "metadata": {
    "execution": {
     "iopub.execute_input": "2022-10-24T19:24:53.934328Z",
     "iopub.status.busy": "2022-10-24T19:24:53.933433Z",
     "iopub.status.idle": "2022-10-24T19:24:53.942381Z",
     "shell.execute_reply": "2022-10-24T19:24:53.940779Z",
     "shell.execute_reply.started": "2022-10-24T19:24:53.934285Z"
    }
   },
   "outputs": [
    {
     "data": {
      "text/plain": [
       "79726"
      ]
     },
     "execution_count": 17,
     "metadata": {},
     "output_type": "execute_result"
    }
   ],
   "source": [
    "len(preds)"
   ]
  },
  {
   "cell_type": "code",
   "execution_count": 18,
   "metadata": {
    "execution": {
     "iopub.execute_input": "2022-10-24T19:24:53.945056Z",
     "iopub.status.busy": "2022-10-24T19:24:53.944297Z",
     "iopub.status.idle": "2022-10-24T19:36:30.771906Z",
     "shell.execute_reply": "2022-10-24T19:36:30.770682Z",
     "shell.execute_reply.started": "2022-10-24T19:24:53.945011Z"
    }
   },
   "outputs": [],
   "source": [
    "test_imgs = os.path.join(dir , 'imgs/test')\n",
    "test_ids = sorted(os.listdir(test_imgs))\n",
    "pred_df = pd.DataFrame(columns=['img','c0','c1','c2','c3','c4','c5','c6','c7','c8','c9'])\n",
    "for i in range(len(preds)):\n",
    "    pred_df.loc[i,'img'] = test_ids[i]\n",
    "    pred_df.loc[i , 'c0':'c9'] = preds[i]"
   ]
  },
  {
   "cell_type": "code",
   "execution_count": 19,
   "metadata": {
    "execution": {
     "iopub.execute_input": "2022-10-24T19:36:30.774454Z",
     "iopub.status.busy": "2022-10-24T19:36:30.773407Z",
     "iopub.status.idle": "2022-10-24T19:36:30.797078Z",
     "shell.execute_reply": "2022-10-24T19:36:30.795192Z",
     "shell.execute_reply.started": "2022-10-24T19:36:30.774412Z"
    }
   },
   "outputs": [
    {
     "data": {
      "text/html": [
       "<div>\n",
       "<style scoped>\n",
       "    .dataframe tbody tr th:only-of-type {\n",
       "        vertical-align: middle;\n",
       "    }\n",
       "\n",
       "    .dataframe tbody tr th {\n",
       "        vertical-align: top;\n",
       "    }\n",
       "\n",
       "    .dataframe thead th {\n",
       "        text-align: right;\n",
       "    }\n",
       "</style>\n",
       "<table border=\"1\" class=\"dataframe\">\n",
       "  <thead>\n",
       "    <tr style=\"text-align: right;\">\n",
       "      <th></th>\n",
       "      <th>img</th>\n",
       "      <th>c0</th>\n",
       "      <th>c1</th>\n",
       "      <th>c2</th>\n",
       "      <th>c3</th>\n",
       "      <th>c4</th>\n",
       "      <th>c5</th>\n",
       "      <th>c6</th>\n",
       "      <th>c7</th>\n",
       "      <th>c8</th>\n",
       "      <th>c9</th>\n",
       "    </tr>\n",
       "  </thead>\n",
       "  <tbody>\n",
       "    <tr>\n",
       "      <th>0</th>\n",
       "      <td>img_1.jpg</td>\n",
       "      <td>0.646881</td>\n",
       "      <td>0.000046</td>\n",
       "      <td>0.000977</td>\n",
       "      <td>0.00022</td>\n",
       "      <td>0.004171</td>\n",
       "      <td>1.0</td>\n",
       "      <td>0.000315</td>\n",
       "      <td>0.02027</td>\n",
       "      <td>0.495244</td>\n",
       "      <td>0.993355</td>\n",
       "    </tr>\n",
       "    <tr>\n",
       "      <th>1</th>\n",
       "      <td>img_10.jpg</td>\n",
       "      <td>0.194926</td>\n",
       "      <td>0.001893</td>\n",
       "      <td>0.708464</td>\n",
       "      <td>0.000441</td>\n",
       "      <td>0.304661</td>\n",
       "      <td>1.0</td>\n",
       "      <td>0.051414</td>\n",
       "      <td>0.000066</td>\n",
       "      <td>0.44894</td>\n",
       "      <td>0.203705</td>\n",
       "    </tr>\n",
       "    <tr>\n",
       "      <th>2</th>\n",
       "      <td>img_100.jpg</td>\n",
       "      <td>0.664337</td>\n",
       "      <td>0.412233</td>\n",
       "      <td>0.227838</td>\n",
       "      <td>0.409344</td>\n",
       "      <td>0.646531</td>\n",
       "      <td>0.303283</td>\n",
       "      <td>0.599469</td>\n",
       "      <td>0.390347</td>\n",
       "      <td>0.533773</td>\n",
       "      <td>0.665712</td>\n",
       "    </tr>\n",
       "    <tr>\n",
       "      <th>3</th>\n",
       "      <td>img_1000.jpg</td>\n",
       "      <td>0.678483</td>\n",
       "      <td>0.05955</td>\n",
       "      <td>0.663945</td>\n",
       "      <td>0.278761</td>\n",
       "      <td>0.654814</td>\n",
       "      <td>0.561894</td>\n",
       "      <td>0.942971</td>\n",
       "      <td>0.00028</td>\n",
       "      <td>0.992025</td>\n",
       "      <td>0.487847</td>\n",
       "    </tr>\n",
       "    <tr>\n",
       "      <th>4</th>\n",
       "      <td>img_100000.jpg</td>\n",
       "      <td>0.995611</td>\n",
       "      <td>0.019094</td>\n",
       "      <td>0.000316</td>\n",
       "      <td>0.830371</td>\n",
       "      <td>0.993961</td>\n",
       "      <td>0.96931</td>\n",
       "      <td>0.001428</td>\n",
       "      <td>0.010055</td>\n",
       "      <td>0.370838</td>\n",
       "      <td>0.957253</td>\n",
       "    </tr>\n",
       "    <tr>\n",
       "      <th>...</th>\n",
       "      <td>...</td>\n",
       "      <td>...</td>\n",
       "      <td>...</td>\n",
       "      <td>...</td>\n",
       "      <td>...</td>\n",
       "      <td>...</td>\n",
       "      <td>...</td>\n",
       "      <td>...</td>\n",
       "      <td>...</td>\n",
       "      <td>...</td>\n",
       "      <td>...</td>\n",
       "    </tr>\n",
       "    <tr>\n",
       "      <th>79721</th>\n",
       "      <td>img_99994.jpg</td>\n",
       "      <td>0.728385</td>\n",
       "      <td>0.463186</td>\n",
       "      <td>0.802038</td>\n",
       "      <td>0.003107</td>\n",
       "      <td>0.040564</td>\n",
       "      <td>0.973405</td>\n",
       "      <td>0.258449</td>\n",
       "      <td>0.320177</td>\n",
       "      <td>0.672092</td>\n",
       "      <td>0.770201</td>\n",
       "    </tr>\n",
       "    <tr>\n",
       "      <th>79722</th>\n",
       "      <td>img_99995.jpg</td>\n",
       "      <td>0.91086</td>\n",
       "      <td>0.137871</td>\n",
       "      <td>0.076285</td>\n",
       "      <td>0.978727</td>\n",
       "      <td>0.936109</td>\n",
       "      <td>0.09272</td>\n",
       "      <td>0.154008</td>\n",
       "      <td>0.045749</td>\n",
       "      <td>0.616675</td>\n",
       "      <td>0.805338</td>\n",
       "    </tr>\n",
       "    <tr>\n",
       "      <th>79723</th>\n",
       "      <td>img_99996.jpg</td>\n",
       "      <td>0.695629</td>\n",
       "      <td>0.104422</td>\n",
       "      <td>0.256467</td>\n",
       "      <td>0.210666</td>\n",
       "      <td>0.946382</td>\n",
       "      <td>0.170593</td>\n",
       "      <td>0.856107</td>\n",
       "      <td>0.464484</td>\n",
       "      <td>0.433877</td>\n",
       "      <td>0.477398</td>\n",
       "    </tr>\n",
       "    <tr>\n",
       "      <th>79724</th>\n",
       "      <td>img_99998.jpg</td>\n",
       "      <td>0.006593</td>\n",
       "      <td>0.001294</td>\n",
       "      <td>0.999133</td>\n",
       "      <td>0.000022</td>\n",
       "      <td>0.025104</td>\n",
       "      <td>0.058454</td>\n",
       "      <td>0.99999</td>\n",
       "      <td>0.062715</td>\n",
       "      <td>0.996552</td>\n",
       "      <td>0.15614</td>\n",
       "    </tr>\n",
       "    <tr>\n",
       "      <th>79725</th>\n",
       "      <td>img_99999.jpg</td>\n",
       "      <td>0.023354</td>\n",
       "      <td>0.000003</td>\n",
       "      <td>0.000269</td>\n",
       "      <td>0.000012</td>\n",
       "      <td>0.002095</td>\n",
       "      <td>1.0</td>\n",
       "      <td>0.000563</td>\n",
       "      <td>0.06657</td>\n",
       "      <td>0.365564</td>\n",
       "      <td>0.993072</td>\n",
       "    </tr>\n",
       "  </tbody>\n",
       "</table>\n",
       "<p>79726 rows × 11 columns</p>\n",
       "</div>"
      ],
      "text/plain": [
       "                  img        c0        c1        c2        c3        c4  \\\n",
       "0           img_1.jpg  0.646881  0.000046  0.000977   0.00022  0.004171   \n",
       "1          img_10.jpg  0.194926  0.001893  0.708464  0.000441  0.304661   \n",
       "2         img_100.jpg  0.664337  0.412233  0.227838  0.409344  0.646531   \n",
       "3        img_1000.jpg  0.678483   0.05955  0.663945  0.278761  0.654814   \n",
       "4      img_100000.jpg  0.995611  0.019094  0.000316  0.830371  0.993961   \n",
       "...               ...       ...       ...       ...       ...       ...   \n",
       "79721   img_99994.jpg  0.728385  0.463186  0.802038  0.003107  0.040564   \n",
       "79722   img_99995.jpg   0.91086  0.137871  0.076285  0.978727  0.936109   \n",
       "79723   img_99996.jpg  0.695629  0.104422  0.256467  0.210666  0.946382   \n",
       "79724   img_99998.jpg  0.006593  0.001294  0.999133  0.000022  0.025104   \n",
       "79725   img_99999.jpg  0.023354  0.000003  0.000269  0.000012  0.002095   \n",
       "\n",
       "             c5        c6        c7        c8        c9  \n",
       "0           1.0  0.000315   0.02027  0.495244  0.993355  \n",
       "1           1.0  0.051414  0.000066   0.44894  0.203705  \n",
       "2      0.303283  0.599469  0.390347  0.533773  0.665712  \n",
       "3      0.561894  0.942971   0.00028  0.992025  0.487847  \n",
       "4       0.96931  0.001428  0.010055  0.370838  0.957253  \n",
       "...         ...       ...       ...       ...       ...  \n",
       "79721  0.973405  0.258449  0.320177  0.672092  0.770201  \n",
       "79722   0.09272  0.154008  0.045749  0.616675  0.805338  \n",
       "79723  0.170593  0.856107  0.464484  0.433877  0.477398  \n",
       "79724  0.058454   0.99999  0.062715  0.996552   0.15614  \n",
       "79725       1.0  0.000563   0.06657  0.365564  0.993072  \n",
       "\n",
       "[79726 rows x 11 columns]"
      ]
     },
     "execution_count": 19,
     "metadata": {},
     "output_type": "execute_result"
    }
   ],
   "source": [
    "pred_df"
   ]
  }
 ],
 "metadata": {
  "kernelspec": {
   "display_name": "Python 3 (ipykernel)",
   "language": "python",
   "name": "python3"
  },
  "language_info": {
   "codemirror_mode": {
    "name": "ipython",
    "version": 3
   },
   "file_extension": ".py",
   "mimetype": "text/x-python",
   "name": "python",
   "nbconvert_exporter": "python",
   "pygments_lexer": "ipython3",
   "version": "3.9.7"
  }
 },
 "nbformat": 4,
 "nbformat_minor": 4
}
